{
 "cells": [
  {
   "cell_type": "markdown",
   "metadata": {},
   "source": [
    "### Simple Patterns"
   ]
  },
  {
   "cell_type": "markdown",
   "metadata": {},
   "source": [
    "### Matching Characters\n",
    "\n",
    ". ^ $ * + ? { } [ ] \\ | ( )\n",
    "\n",
    "* . - matches anything except for a newline\n",
    "* ^ - complementing set, a.k.a. except. it must be before the character(s)\n",
    "* $\n",
    "* * - repeating things 0 or more times. it specifies that the previous character can be matched zero or more times. \n",
    "* + - another repeating meta character, which matches one or more times. \n",
    "* ? - another repeating meta character, which matches either once or zero times. \n",
    "* { }\n",
    "* [  ] - used to specify a set of characters to match, e.g. character class. metacharacters are not active inside classes\n",
    "* \\ - perhaps the most important metacharacter. it can be followed by various characters to signal various special sequences. it is also used to escape all the metacharacters. \n",
    " * \\w matches any alphanumeric character - same as [a-zA-Z0-9_]\n",
    " * \\d matches any decimal digit - same as [0-9]\n",
    " * \\D matches any non-digit character - same as [^0-9]\n",
    " * \\s matches any whitespace character - same as [ \\t\\n\\r\\f\\v]\n",
    " * \\S matches any non-whitespace character - same as [^ \\t\\n\\r\\f\\v]\n",
    " * \\w matches any alphanumeric character - same as [a-zA-Z0-9_]\n",
    " * \\W matches any non-alphanumeric character - same as [^a-zA-Z0-9_].\n",
    "* |\n",
    "* ( )\n",
    "\n",
    "\n"
   ]
  },
  {
   "cell_type": "markdown",
   "metadata": {},
   "source": [
    "#### A step-by-step example will make this more obvious. Let’s consider the expression a[bcd]*b. This matches the letter 'a', zero or more letters from the class [bcd], and finally ends with a 'b'. Now imagine matching this RE against the string 'abcbd'.\n",
    "\n",
    "![sample](assets/image_1.png)\n",
    "\n"
   ]
  },
  {
   "cell_type": "code",
   "execution_count": 13,
   "metadata": {},
   "outputs": [
    {
     "data": {
      "text/plain": [
       "<re.Match object; span=(0, 2), match='ab'>"
      ]
     },
     "execution_count": 13,
     "metadata": {},
     "output_type": "execute_result"
    }
   ],
   "source": [
    "import re\n",
    "p1=re.compile('ab*')\n",
    "p2=re.compile('[a-z]+')\n",
    "\n",
    "p1.match('abc')"
   ]
  },
  {
   "cell_type": "markdown",
   "metadata": {},
   "source": [
    "![sample2](assets/image_2.png)"
   ]
  },
  {
   "cell_type": "code",
   "execution_count": 10,
   "metadata": {},
   "outputs": [
    {
     "name": "stdout",
     "output_type": "stream",
     "text": [
      "None\n",
      "<re.Match object; span=(0, 5), match='tempo'>\n"
     ]
    }
   ],
   "source": [
    "m1=p1.match('tempo')\n",
    "print(m1)\n",
    "m2=p2.match('tempo')\n",
    "print(m2)"
   ]
  },
  {
   "cell_type": "code",
   "execution_count": 11,
   "metadata": {},
   "outputs": [
    {
     "data": {
      "text/plain": [
       "['12', '11', '10']"
      ]
     },
     "execution_count": 11,
     "metadata": {},
     "output_type": "execute_result"
    }
   ],
   "source": [
    "p=re.compile('\\d+')\n",
    "p.findall('12 drummers drumming, 11 pipers piping, 10 lords a-leaping')"
   ]
  },
  {
   "cell_type": "markdown",
   "metadata": {},
   "source": [
    "![sample3](assets/image_3.png)"
   ]
  },
  {
   "cell_type": "code",
   "execution_count": null,
   "metadata": {},
   "outputs": [],
   "source": []
  }
 ],
 "metadata": {
  "kernelspec": {
   "display_name": "Python 3",
   "language": "python",
   "name": "python3"
  },
  "language_info": {
   "codemirror_mode": {
    "name": "ipython",
    "version": 3
   },
   "file_extension": ".py",
   "mimetype": "text/x-python",
   "name": "python",
   "nbconvert_exporter": "python",
   "pygments_lexer": "ipython3",
   "version": "3.7.4"
  }
 },
 "nbformat": 4,
 "nbformat_minor": 2
}
